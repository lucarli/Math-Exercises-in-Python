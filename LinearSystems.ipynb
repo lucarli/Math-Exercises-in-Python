{
 "cells": [
  {
   "cell_type": "code",
   "execution_count": null,
   "metadata": {},
   "outputs": [],
   "source": [
    "Solve the linear system below:\n",
    "\n",
    "3x + 2y - 4z +  t = 30\n",
    "2x + 3y + 3z + 2t = 150\n",
    "5x - 3y +  z - 5t = 140\n",
    " x +  y +  z +  t = 60"
   ]
  },
  {
   "cell_type": "code",
   "execution_count": 1,
   "metadata": {},
   "outputs": [
    {
     "name": "stdout",
     "output_type": "stream",
     "text": [
      "['30', '10', '20', '-0']\n"
     ]
    }
   ],
   "source": [
    "# Solution \n",
    "import numpy as np\n",
    "\n",
    "a = np.array([[3,2,-4,1],[2,3,3,2],[5,-3,1,-5],[1,1,1,1]])\n",
    "\n",
    "y = np.array([30,150,140,60])\n",
    "\n",
    "x = np.linalg.solve(a,y)\n",
    "\n",
    "print([\"{:0.0f}\".format(i) for i in x])"
   ]
  }
 ],
 "metadata": {
  "kernelspec": {
   "display_name": "Python 3",
   "language": "python",
   "name": "python3"
  },
  "language_info": {
   "codemirror_mode": {
    "name": "ipython",
    "version": 3
   },
   "file_extension": ".py",
   "mimetype": "text/x-python",
   "name": "python",
   "nbconvert_exporter": "python",
   "pygments_lexer": "ipython3",
   "version": "3.7.0"
  }
 },
 "nbformat": 4,
 "nbformat_minor": 2
}
