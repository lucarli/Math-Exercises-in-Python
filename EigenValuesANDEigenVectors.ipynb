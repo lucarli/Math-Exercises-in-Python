{
 "cells": [
  {
   "cell_type": "markdown",
   "metadata": {},
   "source": [
    "Calculate the eigenvalues and eigenvectors of the input squared matrix!"
   ]
  },
  {
   "cell_type": "code",
   "execution_count": null,
   "metadata": {},
   "outputs": [
    {
     "name": "stdout",
     "output_type": "stream",
     "text": [
      "Enter the dimensions of the squared matrix: 3\n"
     ]
    }
   ],
   "source": [
    "# Solution\n",
    "import numpy as np\n",
    "from numpy import linalg as LA\n",
    "\n",
    "n = int(input('Enter the dimensions of the squared matrix: '))\n",
    "\n",
    "A = [[int(j) for j in input().split(' ')] for i in range(n)]\n",
    "\n",
    "values, vectors = LA.eig(A)\n",
    "\n",
    "print('The eigenvalues are: \\n', values)\n",
    "print('The eigenvectors are: \\n', vectors)"
   ]
  },
  {
   "cell_type": "markdown",
   "metadata": {},
   "source": [
    "Based on the eigenvalues and eigenvectors, reconstruct the original matrix."
   ]
  },
  {
   "cell_type": "code",
   "execution_count": 17,
   "metadata": {},
   "outputs": [
    {
     "name": "stdout",
     "output_type": "stream",
     "text": [
      "\n",
      "Original Matrix:\n",
      " [[1, 2, 3], [4, 5, 6], [7, 8, 9]]\n",
      "Rebuilt Matrix:\n",
      " [[1. 2. 3.]\n",
      " [4. 5. 6.]\n",
      " [7. 8. 9.]]\n"
     ]
    }
   ],
   "source": [
    "from numpy import diag\n",
    "from numpy import dot\n",
    "from numpy.linalg import inv\n",
    "from numpy import array\n",
    "from numpy.linalg import eig\n",
    "\n",
    "print(\"\\nOriginal Matrix:\\n\", A)\n",
    "\n",
    "# Calculates eigenvalues and eigenvectors\n",
    "values, vectors = eig(A)\n",
    "\n",
    "\n",
    "M = vectors.dot(diag(values)).dot(inv(vectors))\n",
    "\n",
    "print(\"Rebuilt Matrix:\\n\",M)"
   ]
  }
 ],
 "metadata": {
  "kernelspec": {
   "display_name": "Python 3",
   "language": "python",
   "name": "python3"
  },
  "language_info": {
   "codemirror_mode": {
    "name": "ipython",
    "version": 3
   },
   "file_extension": ".py",
   "mimetype": "text/x-python",
   "name": "python",
   "nbconvert_exporter": "python",
   "pygments_lexer": "ipython3",
   "version": "3.7.0"
  }
 },
 "nbformat": 4,
 "nbformat_minor": 2
}
